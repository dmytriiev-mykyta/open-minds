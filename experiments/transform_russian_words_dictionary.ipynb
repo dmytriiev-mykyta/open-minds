{
 "cells": [
  {
   "cell_type": "code",
   "execution_count": 1,
   "metadata": {},
   "outputs": [],
   "source": [
    "import os\n",
    "import json\n",
    "\n",
    "\n",
    "def extract_list_of_words(dictionary_lines: list[str]):\n",
    "    words = []\n",
    "\n",
    "    for l in dictionary_lines:\n",
    "        l = l.strip(' \\n\\t')\n",
    "\n",
    "        if len(l) == 0:\n",
    "            continue\n",
    "\n",
    "        tokens = l.split('\\t')\n",
    "\n",
    "        if len(tokens) == 1:\n",
    "            continue\n",
    "\n",
    "        words.append(tokens[0])\n",
    "\n",
    "    return words"
   ]
  },
  {
   "cell_type": "code",
   "execution_count": 2,
   "metadata": {},
   "outputs": [],
   "source": [
    "root_path = 'datasets'\n",
    "\n",
    "filename = 'dictionary.txt'\n",
    "\n",
    "with open(os.path.join(root_path, 'archive', filename), 'r') as f:\n",
    "    lines = f.readlines()\n",
    "\n",
    "words = extract_list_of_words(lines)\n",
    "\n",
    "with open(os.path.join(root_path, 'words.json'), 'w') as f:\n",
    "    json.dump(words, f)"
   ]
  },
  {
   "cell_type": "code",
   "execution_count": 5,
   "metadata": {},
   "outputs": [
    {
     "data": {
      "text/plain": [
       "['ЁЖИМЫМ',\n",
       " 'ЁЖИМОМ',\n",
       " 'ЁЖИМАЯ',\n",
       " 'ЁЖИМОЙ',\n",
       " 'ЁЖИМОЙ',\n",
       " 'ЁЖИМУЮ',\n",
       " 'ЁЖИМОЙ',\n",
       " 'ЁЖИМОЮ',\n",
       " 'ЁЖИМОЙ',\n",
       " 'ЁЖИМОЕ']"
      ]
     },
     "execution_count": 5,
     "metadata": {},
     "output_type": "execute_result"
    }
   ],
   "source": [
    "words[90:100]"
   ]
  },
  {
   "cell_type": "code",
   "execution_count": null,
   "metadata": {},
   "outputs": [],
   "source": []
  }
 ],
 "metadata": {
  "language_info": {
   "name": "python"
  }
 },
 "nbformat": 4,
 "nbformat_minor": 2
}
