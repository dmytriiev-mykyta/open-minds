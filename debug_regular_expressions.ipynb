{
 "cells": [
  {
   "cell_type": "code",
   "execution_count": 4,
   "metadata": {},
   "outputs": [
    {
     "name": "stdout",
     "output_type": "stream",
     "text": [
      "<re.Match object; span=(0, 21), match='https://otkroyrot.com'>\n"
     ]
    }
   ],
   "source": [
    "import re\n",
    "\n",
    "\n",
    "# s = 'Sakh.online'\n",
    "# s = 'ak-bars.ru'\n",
    "# s = 'freepik.com'\n",
    "# s = 'ru.freepik.com'\n",
    "# s = 'ojm.tatarstan.ru'\n",
    "s = 'https://otkroyrot.com/join'\n",
    "website_pattern = re.compile('(https?://)?[a-zA-Z\\\\d][\\\\w\\\\-]*(\\\\.[a-zA-Z\\\\d][\\\\w\\\\-]*[a-zA-Z\\\\d])*\\\\.[\\\\w\\\\-]*[a-zA-Z\\\\d]')\n",
    "\n",
    "m = website_pattern.search(s)\n",
    "\n",
    "if m is None:\n",
    "    print('No matches found')\n",
    "else:\n",
    "    print(m)"
   ]
  },
  {
   "cell_type": "code",
   "execution_count": null,
   "metadata": {},
   "outputs": [],
   "source": []
  }
 ],
 "metadata": {
  "language_info": {
   "name": "python"
  }
 },
 "nbformat": 4,
 "nbformat_minor": 2
}
